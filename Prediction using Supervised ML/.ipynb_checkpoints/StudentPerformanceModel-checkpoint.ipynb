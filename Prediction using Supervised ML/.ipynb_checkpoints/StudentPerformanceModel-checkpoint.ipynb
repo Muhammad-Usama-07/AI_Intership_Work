{
 "cells": [
  {
   "cell_type": "markdown",
   "id": "11356c2e",
   "metadata": {},
   "source": [
    "# Data Science & Business Analytics GRIP Internship By "
   ]
  },
  {
   "cell_type": "markdown",
   "id": "694b6afc",
   "metadata": {},
   "source": [
    "# \"The Sparks Foundation\""
   ]
  },
  {
   "cell_type": "markdown",
   "id": "ab53c777",
   "metadata": {},
   "source": [
    "## Performing Task # 01: Predict the percentage of an student based on the no. of study hours.  "
   ]
  },
  {
   "cell_type": "markdown",
   "id": "52811525",
   "metadata": {},
   "source": [
    "Using Python and sklearn to perform simple linear regression involves two variables(Hours,Scores)"
   ]
  },
  {
   "cell_type": "markdown",
   "id": "a01bb736",
   "metadata": {},
   "source": [
    "#### Steps\n",
    "1. Use Required libraries\n",
    "2. Taking Data\n",
    "3. Find Relationship B/W Variables and Visualize the Data\n",
    "4. Prepare Data\n",
    "5. Training the model\n",
    "6. Predict Model on Test Data\n",
    "7. Display Result in DataFrame\n",
    "8. Plot Actual vs Predicted Value graph\n",
    "9. Check precdiction with new values"
   ]
  },
  {
   "cell_type": "markdown",
   "id": "8f4cc4e2",
   "metadata": {},
   "source": [
    "### 1. Using nessasory libraries "
   ]
  },
  {
   "cell_type": "code",
   "execution_count": 1,
   "id": "f1f87025",
   "metadata": {},
   "outputs": [],
   "source": [
    "import pandas as pd\n",
    "import numpy as np\n",
    "import seaborn as sns"
   ]
  },
  {
   "cell_type": "markdown",
   "id": "3758e88e",
   "metadata": {},
   "source": [
    "### 2. Taking Data"
   ]
  },
  {
   "cell_type": "code",
   "execution_count": 2,
   "id": "2c8a0d0f",
   "metadata": {},
   "outputs": [
    {
     "data": {
      "text/html": [
       "<div>\n",
       "<style scoped>\n",
       "    .dataframe tbody tr th:only-of-type {\n",
       "        vertical-align: middle;\n",
       "    }\n",
       "\n",
       "    .dataframe tbody tr th {\n",
       "        vertical-align: top;\n",
       "    }\n",
       "\n",
       "    .dataframe thead th {\n",
       "        text-align: right;\n",
       "    }\n",
       "</style>\n",
       "<table border=\"1\" class=\"dataframe\">\n",
       "  <thead>\n",
       "    <tr style=\"text-align: right;\">\n",
       "      <th></th>\n",
       "      <th>Hours</th>\n",
       "      <th>Scores</th>\n",
       "    </tr>\n",
       "  </thead>\n",
       "  <tbody>\n",
       "    <tr>\n",
       "      <th>0</th>\n",
       "      <td>2.5</td>\n",
       "      <td>21</td>\n",
       "    </tr>\n",
       "    <tr>\n",
       "      <th>1</th>\n",
       "      <td>5.1</td>\n",
       "      <td>47</td>\n",
       "    </tr>\n",
       "    <tr>\n",
       "      <th>2</th>\n",
       "      <td>3.2</td>\n",
       "      <td>27</td>\n",
       "    </tr>\n",
       "    <tr>\n",
       "      <th>3</th>\n",
       "      <td>8.5</td>\n",
       "      <td>75</td>\n",
       "    </tr>\n",
       "    <tr>\n",
       "      <th>4</th>\n",
       "      <td>3.5</td>\n",
       "      <td>30</td>\n",
       "    </tr>\n",
       "    <tr>\n",
       "      <th>5</th>\n",
       "      <td>1.5</td>\n",
       "      <td>20</td>\n",
       "    </tr>\n",
       "    <tr>\n",
       "      <th>6</th>\n",
       "      <td>9.2</td>\n",
       "      <td>88</td>\n",
       "    </tr>\n",
       "    <tr>\n",
       "      <th>7</th>\n",
       "      <td>5.5</td>\n",
       "      <td>60</td>\n",
       "    </tr>\n",
       "    <tr>\n",
       "      <th>8</th>\n",
       "      <td>8.3</td>\n",
       "      <td>81</td>\n",
       "    </tr>\n",
       "    <tr>\n",
       "      <th>9</th>\n",
       "      <td>2.7</td>\n",
       "      <td>25</td>\n",
       "    </tr>\n",
       "    <tr>\n",
       "      <th>10</th>\n",
       "      <td>7.7</td>\n",
       "      <td>85</td>\n",
       "    </tr>\n",
       "    <tr>\n",
       "      <th>11</th>\n",
       "      <td>5.9</td>\n",
       "      <td>62</td>\n",
       "    </tr>\n",
       "    <tr>\n",
       "      <th>12</th>\n",
       "      <td>4.5</td>\n",
       "      <td>41</td>\n",
       "    </tr>\n",
       "    <tr>\n",
       "      <th>13</th>\n",
       "      <td>3.3</td>\n",
       "      <td>42</td>\n",
       "    </tr>\n",
       "    <tr>\n",
       "      <th>14</th>\n",
       "      <td>1.1</td>\n",
       "      <td>17</td>\n",
       "    </tr>\n",
       "    <tr>\n",
       "      <th>15</th>\n",
       "      <td>8.9</td>\n",
       "      <td>95</td>\n",
       "    </tr>\n",
       "    <tr>\n",
       "      <th>16</th>\n",
       "      <td>2.5</td>\n",
       "      <td>30</td>\n",
       "    </tr>\n",
       "    <tr>\n",
       "      <th>17</th>\n",
       "      <td>1.9</td>\n",
       "      <td>24</td>\n",
       "    </tr>\n",
       "    <tr>\n",
       "      <th>18</th>\n",
       "      <td>6.1</td>\n",
       "      <td>67</td>\n",
       "    </tr>\n",
       "    <tr>\n",
       "      <th>19</th>\n",
       "      <td>7.4</td>\n",
       "      <td>69</td>\n",
       "    </tr>\n",
       "    <tr>\n",
       "      <th>20</th>\n",
       "      <td>2.7</td>\n",
       "      <td>30</td>\n",
       "    </tr>\n",
       "    <tr>\n",
       "      <th>21</th>\n",
       "      <td>4.8</td>\n",
       "      <td>54</td>\n",
       "    </tr>\n",
       "    <tr>\n",
       "      <th>22</th>\n",
       "      <td>3.8</td>\n",
       "      <td>35</td>\n",
       "    </tr>\n",
       "    <tr>\n",
       "      <th>23</th>\n",
       "      <td>6.9</td>\n",
       "      <td>76</td>\n",
       "    </tr>\n",
       "    <tr>\n",
       "      <th>24</th>\n",
       "      <td>7.8</td>\n",
       "      <td>80</td>\n",
       "    </tr>\n",
       "  </tbody>\n",
       "</table>\n",
       "</div>"
      ],
      "text/plain": [
       "    Hours  Scores\n",
       "0     2.5      21\n",
       "1     5.1      47\n",
       "2     3.2      27\n",
       "3     8.5      75\n",
       "4     3.5      30\n",
       "5     1.5      20\n",
       "6     9.2      88\n",
       "7     5.5      60\n",
       "8     8.3      81\n",
       "9     2.7      25\n",
       "10    7.7      85\n",
       "11    5.9      62\n",
       "12    4.5      41\n",
       "13    3.3      42\n",
       "14    1.1      17\n",
       "15    8.9      95\n",
       "16    2.5      30\n",
       "17    1.9      24\n",
       "18    6.1      67\n",
       "19    7.4      69\n",
       "20    2.7      30\n",
       "21    4.8      54\n",
       "22    3.8      35\n",
       "23    6.9      76\n",
       "24    7.8      80"
      ]
     },
     "execution_count": 2,
     "metadata": {},
     "output_type": "execute_result"
    }
   ],
   "source": [
    "Data = pd.read_excel('Data.xlsx')\n",
    "Data"
   ]
  },
  {
   "cell_type": "markdown",
   "id": "b214bc26",
   "metadata": {},
   "source": [
    "### 3. Visualizing Data & Finding Relationship"
   ]
  },
  {
   "cell_type": "code",
   "execution_count": 3,
   "id": "d903cc89",
   "metadata": {},
   "outputs": [
    {
     "data": {
      "image/png": "[encoded data removed]",
      "text/plain": [
       "<Figure size 360x360 with 1 Axes>"
      ]
     },
     "metadata": {},
     "output_type": "display_data"
    }
   ],
   "source": [
    "sns.set_theme(style=\"darkgrid\")\n",
    "sns.relplot(x=\"Hours\", y=\"Scores\", data=Data);"
   ]
  },
  {
   "cell_type": "markdown",
   "id": "1ca3669b",
   "metadata": {},
   "source": [
    "seems that there is a strong correlation between variables, as you can see below."
   ]
  },
  {
   "cell_type": "code",
   "execution_count": 4,
   "id": "1278e5d9",
   "metadata": {},
   "outputs": [
    {
     "data": {
      "text/html": [
       "<div>\n",
       "<style scoped>\n",
       "    .dataframe tbody tr th:only-of-type {\n",
       "        vertical-align: middle;\n",
       "    }\n",
       "\n",
       "    .dataframe tbody tr th {\n",
       "        vertical-align: top;\n",
       "    }\n",
       "\n",
       "    .dataframe thead th {\n",
       "        text-align: right;\n",
       "    }\n",
       "</style>\n",
       "<table border=\"1\" class=\"dataframe\">\n",
       "  <thead>\n",
       "    <tr style=\"text-align: right;\">\n",
       "      <th></th>\n",
       "      <th>Hours</th>\n",
       "      <th>Scores</th>\n",
       "    </tr>\n",
       "  </thead>\n",
       "  <tbody>\n",
       "    <tr>\n",
       "      <th>Hours</th>\n",
       "      <td>1.000000</td>\n",
       "      <td>0.977442</td>\n",
       "    </tr>\n",
       "    <tr>\n",
       "      <th>Scores</th>\n",
       "      <td>0.977442</td>\n",
       "      <td>1.000000</td>\n",
       "    </tr>\n",
       "  </tbody>\n",
       "</table>\n",
       "</div>"
      ],
      "text/plain": [
       "           Hours    Scores\n",
       "Hours   1.000000  0.977442\n",
       "Scores  0.977442  1.000000"
      ]
     },
     "execution_count": 4,
     "metadata": {},
     "output_type": "execute_result"
    }
   ],
   "source": [
    "Data.corr()"
   ]
  },
  {
   "cell_type": "markdown",
   "id": "df0f14c4",
   "metadata": {},
   "source": [
    "### 4. Prepering Data"
   ]
  },
  {
   "cell_type": "code",
   "execution_count": 5,
   "id": "55fbbbd9",
   "metadata": {},
   "outputs": [
    {
     "name": "stdout",
     "output_type": "stream",
     "text": [
      "Train Data [[7.8]\n",
      " [6.9]\n",
      " [1.1]\n",
      " [5.1]\n",
      " [7.7]\n",
      " [3.3]\n",
      " [8.3]\n",
      " [9.2]\n",
      " [6.1]\n",
      " [3.5]\n",
      " [2.7]\n",
      " [5.5]\n",
      " [2.7]\n",
      " [8.5]\n",
      " [2.5]\n",
      " [4.8]\n",
      " [8.9]\n",
      " [4.5]] \n",
      " Lenght of train Data 18\n",
      "Test Data [[1.5]\n",
      " [3.2]\n",
      " [7.4]\n",
      " [2.5]\n",
      " [5.9]\n",
      " [3.8]\n",
      " [1.9]] \n",
      " Lenght of Test Data 7\n"
     ]
    }
   ],
   "source": [
    "from sklearn.model_selection import train_test_split\n",
    "\n",
    "# Seperating Data \"sklearn\" buildin Model\n",
    "X = Data.iloc[:, :-1].values  \n",
    "# Seperating Variables\n",
    "y = Data.iloc[:, 1].values\n",
    "\n",
    "# Spliting Data into two type(train, test)\n",
    "train_X, test_X, train_y, test_y = train_test_split(X, y, random_state = 0)\n",
    "print('Train Data',train_X,'\\n Lenght of train Data', len(train_X))\n",
    "print('Test Data',test_X,'\\n Lenght of Test Data', len(test_X))"
   ]
  },
  {
   "cell_type": "markdown",
   "id": "cd9d6627",
   "metadata": {},
   "source": [
    "### 5. Training the model"
   ]
  },
  {
   "cell_type": "code",
   "execution_count": 6,
   "id": "9d5c30fa",
   "metadata": {},
   "outputs": [
    {
     "name": "stdout",
     "output_type": "stream",
     "text": [
      "Model Trained\n"
     ]
    }
   ],
   "source": [
    "from sklearn.linear_model import LinearRegression\n",
    "\n",
    "# Using Regression Model\n",
    "regression = LinearRegression()\n",
    "regression.fit(train_X, train_y)\n",
    "print('Model Trained')"
   ]
  },
  {
   "cell_type": "markdown",
   "id": "183695dd",
   "metadata": {},
   "source": [
    "### 6. Predicting Percentage of Mark by giving test Data"
   ]
  },
  {
   "cell_type": "code",
   "execution_count": 7,
   "id": "3e616cc4",
   "metadata": {},
   "outputs": [],
   "source": [
    "pred_test_data = regression.predict(test_X)"
   ]
  },
  {
   "cell_type": "markdown",
   "id": "a32a119a",
   "metadata": {},
   "source": [
    "### 7. Displaying Prediction Result"
   ]
  },
  {
   "cell_type": "code",
   "execution_count": 8,
   "id": "cb8a2d06",
   "metadata": {},
   "outputs": [
    {
     "data": {
      "text/html": [
       "<div>\n",
       "<style scoped>\n",
       "    .dataframe tbody tr th:only-of-type {\n",
       "        vertical-align: middle;\n",
       "    }\n",
       "\n",
       "    .dataframe tbody tr th {\n",
       "        vertical-align: top;\n",
       "    }\n",
       "\n",
       "    .dataframe thead th {\n",
       "        text-align: right;\n",
       "    }\n",
       "</style>\n",
       "<table border=\"1\" class=\"dataframe\">\n",
       "  <thead>\n",
       "    <tr style=\"text-align: right;\">\n",
       "      <th></th>\n",
       "      <th>Hours</th>\n",
       "      <th>Actual Marks</th>\n",
       "      <th>Prediced Marks</th>\n",
       "    </tr>\n",
       "  </thead>\n",
       "  <tbody>\n",
       "    <tr>\n",
       "      <th>0</th>\n",
       "      <td>1.5</td>\n",
       "      <td>20</td>\n",
       "      <td>17.016967</td>\n",
       "    </tr>\n",
       "    <tr>\n",
       "      <th>1</th>\n",
       "      <td>3.2</td>\n",
       "      <td>27</td>\n",
       "      <td>33.703247</td>\n",
       "    </tr>\n",
       "    <tr>\n",
       "      <th>2</th>\n",
       "      <td>7.4</td>\n",
       "      <td>69</td>\n",
       "      <td>74.928175</td>\n",
       "    </tr>\n",
       "    <tr>\n",
       "      <th>3</th>\n",
       "      <td>2.5</td>\n",
       "      <td>30</td>\n",
       "      <td>26.832426</td>\n",
       "    </tr>\n",
       "    <tr>\n",
       "      <th>4</th>\n",
       "      <td>5.9</td>\n",
       "      <td>62</td>\n",
       "      <td>60.204987</td>\n",
       "    </tr>\n",
       "    <tr>\n",
       "      <th>5</th>\n",
       "      <td>3.8</td>\n",
       "      <td>35</td>\n",
       "      <td>39.592523</td>\n",
       "    </tr>\n",
       "    <tr>\n",
       "      <th>6</th>\n",
       "      <td>1.9</td>\n",
       "      <td>24</td>\n",
       "      <td>20.943150</td>\n",
       "    </tr>\n",
       "  </tbody>\n",
       "</table>\n",
       "</div>"
      ],
      "text/plain": [
       "   Hours  Actual Marks  Prediced Marks\n",
       "0    1.5            20       17.016967\n",
       "1    3.2            27       33.703247\n",
       "2    7.4            69       74.928175\n",
       "3    2.5            30       26.832426\n",
       "4    5.9            62       60.204987\n",
       "5    3.8            35       39.592523\n",
       "6    1.9            24       20.943150"
      ]
     },
     "execution_count": 8,
     "metadata": {},
     "output_type": "execute_result"
    }
   ],
   "source": [
    "prediction_results = pd.DataFrame({'Hours':[i[0] for i in test_X], 'Actual Marks': test_y \n",
    "                                   ,'Prediced Marks': [j for j in pred_test_data]})\n",
    "prediction_results"
   ]
  },
  {
   "cell_type": "markdown",
   "id": "d03a7ee1",
   "metadata": {},
   "source": [
    "### 8. Ploting results"
   ]
  },
  {
   "cell_type": "code",
   "execution_count": 14,
   "id": "3616c8f7",
   "metadata": {},
   "outputs": [
    {
     "data": {
      "image/png": "[encoded data removed]",
      "text/plain": [
       "<Figure size 432x288 with 1 Axes>"
      ]
     },
     "metadata": {},
     "output_type": "display_data"
    }
   ],
   "source": [
    "import matplotlib.pyplot as plt \n",
    "plt.scatter(x=test_X, y=test_y, color='green')\n",
    "plt.plot(test_X, pred_test_data, color='red')\n",
    "plt.title('Actual vs Predicted', size=20)\n",
    "plt.ylabel('Marks Percentage', size=12)\n",
    "plt.xlabel('Hours Studied', size=12)\n",
    "plt.show()"
   ]
  },
  {
   "cell_type": "markdown",
   "id": "925c105b",
   "metadata": {},
   "source": [
    "### 9. Predicting with new values"
   ]
  },
  {
   "cell_type": "code",
   "execution_count": 21,
   "id": "cb315e82",
   "metadata": {},
   "outputs": [
    {
     "name": "stdout",
     "output_type": "stream",
     "text": [
      "Score = 71.002\n"
     ]
    }
   ],
   "source": [
    "hours = [7]\n",
    "result = regression.predict([hours])\n",
    "print(\"Score = {}\".format(round(result[0],3)))"
   ]
  },
  {
   "cell_type": "markdown",
   "id": "717f4ae8",
   "metadata": {},
   "source": [
    "#### As you can see, if a student studies for 7 hours a day he/she is likely to score 71.002 marks."
   ]
  },
  {
   "cell_type": "code",
   "execution_count": null,
   "id": "27096c4c",
   "metadata": {},
   "outputs": [],
   "source": []
  }
 ],
 "metadata": {
  "kernelspec": {
   "display_name": "Python 3",
   "language": "python",
   "name": "python3"
  },
  "language_info": {
   "codemirror_mode": {
    "name": "ipython",
    "version": 3
   },
   "file_extension": ".py",
   "mimetype": "text/x-python",
   "name": "python",
   "nbconvert_exporter": "python",
   "pygments_lexer": "ipython3",
   "version": "3.8.8"
  }
 },
 "nbformat": 4,
 "nbformat_minor": 5
}
