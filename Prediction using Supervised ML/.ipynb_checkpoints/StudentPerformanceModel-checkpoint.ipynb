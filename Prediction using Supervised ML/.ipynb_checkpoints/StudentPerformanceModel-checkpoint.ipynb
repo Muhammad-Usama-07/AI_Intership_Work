{
 "cells": [
  {
   "cell_type": "markdown",
   "id": "11356c2e",
   "metadata": {},
   "source": [
    "# Data Science & Business Analytics GRIP Internship By "
   ]
  },
  {
   "cell_type": "markdown",
   "id": "694b6afc",
   "metadata": {},
   "source": [
    "# \"The Sparks Foundation\""
   ]
  },
  {
   "cell_type": "markdown",
   "id": "ab53c777",
   "metadata": {},
   "source": [
    "### Performing Task # 01: Predict the percentage of an student based on the no. of study hours.  "
   ]
  },
  {
   "cell_type": "markdown",
   "id": "52811525",
   "metadata": {},
   "source": [
    "Using Python and sklearn to perform simple linear regression involves two variables(Hours,Scores)"
   ]
  },
  {
   "cell_type": "markdown",
   "id": "85b21c5a",
   "metadata": {},
   "source": [
    "#### Using nessasory libraries "
   ]
  },
  {
   "cell_type": "code",
   "execution_count": 1,
   "id": "c8fe3250",
   "metadata": {},
   "outputs": [],
   "source": [
    "import pandas as pd\n",
    "import numpy as np\n",
    "import matplotlib.pyplot as plt "
   ]
  },
  {
   "cell_type": "code",
   "execution_count": null,
   "id": "09fa13ab",
   "metadata": {},
   "outputs": [],
   "source": []
  }
 ],
 "metadata": {
  "kernelspec": {
   "display_name": "Python 3",
   "language": "python",
   "name": "python3"
  },
  "language_info": {
   "codemirror_mode": {
    "name": "ipython",
    "version": 3
   },
   "file_extension": ".py",
   "mimetype": "text/x-python",
   "name": "python",
   "nbconvert_exporter": "python",
   "pygments_lexer": "ipython3",
   "version": "3.8.8"
  }
 },
 "nbformat": 4,
 "nbformat_minor": 5
}
